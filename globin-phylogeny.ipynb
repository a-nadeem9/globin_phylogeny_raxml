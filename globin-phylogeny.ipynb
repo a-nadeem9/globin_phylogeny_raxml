{
 "cells": [
  {
   "cell_type": "code",
   "execution_count": 8,
   "metadata": {},
   "outputs": [
    {
     "data": {
      "text/plain": [
       "5"
      ]
     },
     "execution_count": 8,
     "metadata": {},
     "output_type": "execute_result"
    }
   ],
   "source": [
    "# import required Biophython functions \n",
    "from Bio import Entrez\n",
    "from Bio import SeqIO\n",
    "\n",
    "# distant globin accession numbers\n",
    "globinAccessions = ['NP_000509','NP_005359','NP_067080','NP_001049476','NP_001235928']\n",
    "\n",
    "# set email address for NCBI\n",
    "Entrez.email = 'adinanadeem@gmail.com'\n",
    "\n",
    "# fetch the sequences from NCBI\n",
    "handle = Entrez.efetch(db=\"protein\", id=globinAccessions, rettype=\"gb\", retmode=\"text\")\n",
    "records = SeqIO.parse(handle, \"gb\")\n",
    "\n",
    "# # print out the sequence names\n",
    "# for record in records:\n",
    "#     print(record.name)\n",
    "\n",
    "# write to fasta file\n",
    "SeqIO.write(records, \"globins.fa\", \"fasta\")"
   ]
  },
  {
   "cell_type": "code",
   "execution_count": 9,
   "metadata": {},
   "outputs": [
    {
     "data": {
      "text/plain": [
       "<os._wrap_close at 0x1f70780fd90>"
      ]
     },
     "execution_count": 9,
     "metadata": {},
     "output_type": "execute_result"
    }
   ],
   "source": [
    "from Bio import AlignIO\n",
    "# module to allow command line calls\n",
    "import os\n",
    "\n",
    "# run Muscle MSA\n",
    "cmdLine = 'muscle -align globins.fa -output distant_globins.aln'\n",
    "os.popen(cmdLine)\n",
    "\n"
   ]
  },
  {
   "cell_type": "code",
   "execution_count": 11,
   "metadata": {},
   "outputs": [],
   "source": [
    "# read in the MUSCLE alignment\n",
    "alignment = AlignIO.read('distant_globins.aln','fasta')"
   ]
  },
  {
   "cell_type": "code",
   "execution_count": 12,
   "metadata": {},
   "outputs": [
    {
     "name": "stdout",
     "output_type": "stream",
     "text": [
      "c:\\Users\\Lenovo\\Desktop\\globin_phylogeny_raxml/raxml/\n"
     ]
    },
    {
     "data": {
      "text/plain": [
       "('\\n\\nThis is RAxML version 7.2.6 released by Alexandros Stamatakis in February 2010.\\n\\nWith greatly appreciated code contributions by:\\nAndre Aberer (TUM)\\nSimon Berger (TUM)\\nJohn Cazes (TACC)\\nMichael Ott (TUM)\\nNick Pattengale (UNM)\\nWayne Pfeiffer (SDSC)\\n\\n\\nAlignment has 164 distinct alignment patterns\\n\\nProportion of gaps and completely undetermined characters in this alignment: 11.91%\\n\\nRAxML rapid hill-climbing mode\\n\\nUsing 1 distinct models/data partitions with joint branch length optimization\\n\\n\\nExecuting 1 inferences on the original alignment using 1 distinct randomized MP trees\\n\\nAll free model parameters will be estimated by RAxML\\nML estimate of 25 per site rate categories\\n\\nLikelihood of final tree will be evaluated and optimized under GAMMA\\n\\nGAMMA Model parameters will be estimated up to an accuracy of 0.1000000000 Log Likelihood units\\n\\nPartition: 0\\nAlignment Patterns: 164\\nName: No Name Provided\\nDataType: AA\\nSubstitution Matrix: WAG\\nFixed Base Frequencies:\\n\\n\\n\\n\\nRAxML was called as follows:\\n\\nraxmlHPC -m PROTCATWAG -n distant_globins -p 10000 -s distant_globins.phy -w c:\\\\Users\\\\Lenovo\\\\Desktop\\\\globin_phylogeny_raxml/raxml/ \\n\\n\\nInference[0]: Time 1.000000 CAT-based likelihood -1795.928867, best rearrangement setting 2\\n\\n\\nConducting final model optimizations on all 1 trees under GAMMA-based models ....\\n\\nInference[0] final GAMMA-based Likelihood: -1916.047602 tree written to file c:\\\\Users\\\\Lenovo\\\\Desktop\\\\globin_phylogeny_raxml/raxml/RAxML_result.distant_globins\\n\\n\\nStarting final GAMMA-based thorough Optimization on tree 0 likelihood -1916.047602 .... \\n\\nFinal GAMMA-based Score of best tree -1916.047602\\n\\nProgram execution info written to c:\\\\Users\\\\Lenovo\\\\Desktop\\\\globin_phylogeny_raxml/raxml/RAxML_info.distant_globins\\nBest-scoring ML tree written to: c:\\\\Users\\\\Lenovo\\\\Desktop\\\\globin_phylogeny_raxml/raxml/RAxML_bestTree.distant_globins\\n\\nOverall execution time: 1.000000 secs or 0.000278 hours or 0.000012 days\\n\\n',\n",
       " '')"
      ]
     },
     "execution_count": 12,
     "metadata": {},
     "output_type": "execute_result"
    }
   ],
   "source": [
    "from Bio.Phylo.Applications import RaxmlCommandline\n",
    "\n",
    "# convert the alignment to phylip format\n",
    "AlignIO.write(alignment, 'distant_globins.phy', 'phylip-relaxed')\n",
    "\n",
    "# set the working directory\n",
    "current_dir = os.getcwd()\n",
    "working_dir = current_dir+'/raxml/'\n",
    "print(working_dir)\n",
    "\n",
    "# NB RAxML will not overwrite existing files, so delete the old info file and it will create a new one\n",
    "if os.path.exists(working_dir+'RAxML_info.*'):\n",
    "    os.remove(working_dir+'RAxML_info.*')\n",
    "\n",
    "# set up the RaxML commandline call\n",
    "raxml_cline = RaxmlCommandline(sequences='distant_globins.phy', model=\"PROTCATWAG\", name=\"distant_globins\", working_dir=working_dir)\n",
    "\n",
    "#run raxml\n",
    "raxml_cline()"
   ]
  },
  {
   "cell_type": "code",
   "execution_count": null,
   "metadata": {},
   "outputs": [
    {
     "data": {
      "image/png": "[encoded data removed]",
      "text/plain": [
       "<Figure size 640x480 with 1 Axes>"
      ]
     },
     "metadata": {},
     "output_type": "display_data"
    }
   ],
   "source": [
    "# read in the resulting tree\n",
    "tree = Phylo.read(working_dir+'/RAxML_result.distant_globins','newick')\n",
    "\n",
    "# plot the tree\n",
    "Phylo.draw(tree)"
   ]
  },
  {
   "cell_type": "markdown",
   "metadata": {},
   "source": [
    "- Sequences NP_005359.1 and NP_000509.1 appear closely related due to their short branch length (0.56048).\n",
    "- This group clusters with NP_067080.1 (branch length 1.0588), suggesting a more distant relationship but sharing a closer ancestor compared to other sequences.\n",
    "- NP_001235928.1 seems somewhat more divergent (branch length 0.7535) from the previous cluster.\n",
    "- NP_001049476.1 exhibits the largest branch length (0.3411), suggesting the most distant evolutionary relationship among the sequences."
   ]
  }
 ],
 "metadata": {
  "kernelspec": {
   "display_name": "Python 3",
   "language": "python",
   "name": "python3"
  },
  "language_info": {
   "codemirror_mode": {
    "name": "ipython",
    "version": 3
   },
   "file_extension": ".py",
   "mimetype": "text/x-python",
   "name": "python",
   "nbconvert_exporter": "python",
   "pygments_lexer": "ipython3",
   "version": "3.11.1"
  }
 },
 "nbformat": 4,
 "nbformat_minor": 2
}
